{
 "cells": [
  {
   "cell_type": "code",
   "execution_count": 1,
   "metadata": {},
   "outputs": [
    {
     "name": "stderr",
     "output_type": "stream",
     "text": [
      "2023/07/20 13:18:43 WARNING mlflow.utils.autologging_utils: MLflow autologging encountered a warning: \"/Library/Frameworks/Python.framework/Versions/3.8/lib/python3.8/site-packages/setuptools/distutils_patch.py:25: UserWarning: Distutils was imported before Setuptools. This usage is discouraged and may exhibit undesirable behaviors or errors. Please use Setuptools' objects directly or at least import Setuptools first.\"\n",
      "2023/07/20 13:18:45 INFO mlflow.tracking.fluent: Autologging successfully enabled for sklearn.\n",
      "2023/07/20 13:18:45 INFO mlflow.tracking.fluent: Experiment with name 'agilysis' does not exist. Creating a new experiment.\n"
     ]
    },
    {
     "data": {
      "text/plain": [
       "<Experiment: artifact_location='file:///Users/isulaimon/Documents/GitHub/BDTI_Lab_Agilysis/mlruns/884331607480485715', creation_time=1689855525083, experiment_id='884331607480485715', last_update_time=1689855525083, lifecycle_stage='active', name='agilysis', tags={}>"
      ]
     },
     "execution_count": 1,
     "metadata": {},
     "output_type": "execute_result"
    }
   ],
   "source": [
    "# import libraries\n",
    "import pandas as pd\n",
    "from sklearn.ensemble import RandomForestRegressor # , RandomForestClassfier\n",
    "from sklearn.feature_selection import SelectFromModel, RFECV\n",
    "from sklearn.model_selection import train_test_split \n",
    "import mlflow\n",
    "\n",
    "mlflow.autolog()\n",
    "mlflow.set_experiment(experiment_name=\"agilysis\")\n"
   ]
  },
  {
   "cell_type": "code",
   "execution_count": 3,
   "metadata": {},
   "outputs": [
    {
     "name": "stdout",
     "output_type": "stream",
     "text": [
      "[181 184 199 225 244 245 285 338 339 341 342 346 392 409]\n"
     ]
    }
   ],
   "source": [
    "# read data\n",
    "pollutants = ['NO', 'NO2', 'O3', 'PM1', 'PM10', 'PM25']\n",
    "data = pd.read_csv('data/NO.csv')\n",
    "\n",
    "# zid = data.zid.unique()\n",
    "# print(zid)\n",
    "# [181 184 199 225 244 245 285 338 339 341 342 346 392 409]"
   ]
  },
  {
   "cell_type": "code",
   "execution_count": null,
   "metadata": {},
   "outputs": [],
   "source": [
    "#  data preparation/splitting\n",
    "X_train,y_train,X_test,y_test = train_test_split(data,test_size=0.3)\n"
   ]
  },
  {
   "cell_type": "code",
   "execution_count": null,
   "metadata": {},
   "outputs": [],
   "source": [
    "# feature selection (RF)\n",
    "# examine only the training data to avoid overfitting\n",
    "\n",
    "sel = SelectFromModel(RandomForestClassifier(n_estimators = 100))\n",
    "sel.fit(X_train, y_train)\n",
    "\n",
    "# select features\n",
    "selected_feat= X_train.columns[(sel.get_support())]\n",
    "len(selected_feat)\n",
    "\n",
    "print(selected_feat)\n",
    "\n",
    "pd.Series(sel.estimator_,feature_importances_,.ravel()).hist()\n",
    "\n",
    "'''\n",
    "rf = RandomForestRegressor(random_state=0)\n",
    "rf.fit(X_train,y_train)\n",
    "\n",
    "f_i = list(zip(features,rf.feature_importances_))\n",
    "f_i.sort(key = lambda x : x[1])\n",
    "plt.barh([x[0] for x in f_i],[x[1] for x in f_i])\n",
    "\n",
    "plt.show()\n",
    "\n",
    "# select the best features using feature importance\n",
    "rfe = RFECV(rf,cv=5,scoring=\"neg_mean_squared_error\")\n",
    "rfe.fit(X_train,y_train)\n",
    "'''"
   ]
  },
  {
   "cell_type": "code",
   "execution_count": null,
   "metadata": {},
   "outputs": [],
   "source": [
    "# model training/validation\n",
    "with mlflow.start_run():\n",
    "    #  model training\n",
    "    "
   ]
  },
  {
   "cell_type": "code",
   "execution_count": null,
   "metadata": {},
   "outputs": [],
   "source": [
    "# model evaluation\n"
   ]
  },
  {
   "cell_type": "code",
   "execution_count": null,
   "metadata": {},
   "outputs": [],
   "source": [
    "# all in one\n"
   ]
  }
 ],
 "metadata": {
  "kernelspec": {
   "display_name": "Python 3",
   "language": "python",
   "name": "python3"
  },
  "language_info": {
   "codemirror_mode": {
    "name": "ipython",
    "version": 3
   },
   "file_extension": ".py",
   "mimetype": "text/x-python",
   "name": "python",
   "nbconvert_exporter": "python",
   "pygments_lexer": "ipython3",
   "version": "3.8.6"
  },
  "orig_nbformat": 4
 },
 "nbformat": 4,
 "nbformat_minor": 2
}
